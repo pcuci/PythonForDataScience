{
 "cells": [
  {
   "cell_type": "code",
   "execution_count": 7,
   "metadata": {
    "collapsed": true
   },
   "outputs": [],
   "source": [
    "from sklearn.ensemble import RandomForestClassifier\n",
    "from numpy import genfromtxt, savetxt\n",
    "\n",
    "# create the training & test sets\n",
    "dataset = genfromtxt(open('data/train.csv', 'r'), delimiter=',', dtype='f8')[1:]\n",
    "target = [x[0] for x in dataset]\n",
    "train = [x[1:] for x in dataset]\n",
    "\n",
    "test = genfromtxt(open('data/test.csv'), delimiter=',', dtype='f8')[1:]\n",
    "\n",
    "# create and train the random forest\n",
    "# n_jobs set to -1 will use the number of cores present on your system.\n",
    "rf = RandomForestClassifier(n_estimators=100, n_jobs=4)\n",
    "rf.fit(train, target)\n",
    "predicted_probs = [[index + 1, x[1]] for index, x in enumerate(rf.predict_proba(test))]\n",
    "\n",
    "savetxt('data/submission.csv', predicted_probs, delimiter=',', fmt='%d,%f', \\\n",
    "        header='MoleculeId,PredictedProbability', comments=\"\")"
   ]
  },
  {
   "cell_type": "code",
   "execution_count": 49,
   "metadata": {
    "collapsed": false
   },
   "outputs": [
    {
     "name": "stdout",
     "output_type": "stream",
     "text": [
      "Results: 0.460017189765\n"
     ]
    }
   ],
   "source": [
    "from sklearn.ensemble import RandomForestClassifier\n",
    "from sklearn import cross_validation\n",
    "import logloss\n",
    "import numpy as np\n",
    "\n",
    "# In this case we'll use a random forest, but this could be any classifier\n",
    "cfr = RandomForestClassifier(n_estimators=100)\n",
    "\n",
    "# Simple K-Fold cross validation, 5 folds\n",
    "cv = cross_validation.KFold(len(train), n_folds=5)\n",
    "\n",
    "results = []\n",
    "\n",
    "for traincv, testcv in cv:\n",
    "    probas = cfr.fit(np.array(train)[traincv], np.array(target)[traincv]).predict_proba(np.array(train)[testcv])\n",
    "    results.append(logloss.llfun(np.array(target)[testcv], [x[1] for x in probas]))\n",
    "    \n",
    "# Print out the mean of the cross-validated results\n",
    "print \"Results: \" + str(np.array(results).mean())\n"
   ]
  }
 ],
 "metadata": {
  "kernelspec": {
   "display_name": "Python 2",
   "language": "python",
   "name": "python2"
  },
  "language_info": {
   "codemirror_mode": {
    "name": "ipython",
    "version": 2
   },
   "file_extension": ".py",
   "mimetype": "text/x-python",
   "name": "python",
   "nbconvert_exporter": "python",
   "pygments_lexer": "ipython2",
   "version": "2.7.9"
  }
 },
 "nbformat": 4,
 "nbformat_minor": 0
}
